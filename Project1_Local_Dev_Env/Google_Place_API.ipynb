{
 "cells": [
  {
   "cell_type": "markdown",
   "metadata": {},
   "source": [
    "## Google Places\n",
    "\n",
    "* Let's take a look at the [Google Places API](https://developers.google.com/maps/documentation/javascript/places#place_searches) documentation. \n",
    "  * Pay close attention to: [Nearby Search](https://developers.google.com/places/web-service/search#PlaceSearchRequests), [Text Search](https://developers.google.com/places/web-service/search#TextSearchRequests), and [Place Search](https://developers.google.com/places/web-service/search#RadarSearchRequests).\n",
    "\n",
    "  * With Nearby Search, note the inputs (Lat/Lng, Radius) and the various optional parameters including: keyword, minPrice, maxPrice, type, etc.\n",
    "\n",
    "  * Also, look at the various [types](https://developers.google.com/places/supported_types) Google categorizes by default. Remember, you will be using the \"**bank\"** type later in the day when you start creating visualizations for Banking Deserts.\n",
    "\n",
    "* For the most part, this code is similar to the last example. The base URL, however, has changed since you are now using the Google Place Search API.\n",
    "\n",
    "  * In this example, we are using a feature of the [requests library](http://docs.python-requests.org/en/master/user/quickstart/#passing-parameters-in-urls) in order to easily construct our url by passing in a dictionary of parameters."
   ]
  },
  {
   "cell_type": "code",
   "execution_count": 1,
   "metadata": {},
   "outputs": [],
   "source": [
    "# Dependencies\n",
    "import requests\n",
    "import json\n",
    "\n",
    "# Google developer API key\n",
    "import os\n",
    "# Make config.py module available\n",
    "gkey = os.environ.get('gkey')"
   ]
  },
  {
   "cell_type": "code",
   "execution_count": 2,
   "metadata": {},
   "outputs": [
    {
     "ename": "IndexError",
     "evalue": "list index out of range",
     "output_type": "error",
     "traceback": [
      "\u001b[1;31m---------------------------------------------------------------------------\u001b[0m",
      "\u001b[1;31mIndexError\u001b[0m                                Traceback (most recent call last)",
      "\u001b[1;32m<ipython-input-2-9de9f8a05871>\u001b[0m in \u001b[0;36m<module>\u001b[1;34m\u001b[0m\n\u001b[0;32m      7\u001b[0m \u001b[1;33m\u001b[0m\u001b[0m\n\u001b[0;32m      8\u001b[0m \u001b[1;31m# Extract latitude and longitude\u001b[0m\u001b[1;33m\u001b[0m\u001b[1;33m\u001b[0m\u001b[1;33m\u001b[0m\u001b[0m\n\u001b[1;32m----> 9\u001b[1;33m \u001b[0mlat\u001b[0m \u001b[1;33m=\u001b[0m \u001b[0mgeo_data\u001b[0m\u001b[1;33m[\u001b[0m\u001b[1;34m\"results\"\u001b[0m\u001b[1;33m]\u001b[0m\u001b[1;33m[\u001b[0m\u001b[1;36m0\u001b[0m\u001b[1;33m]\u001b[0m\u001b[1;33m[\u001b[0m\u001b[1;34m\"geometry\"\u001b[0m\u001b[1;33m]\u001b[0m\u001b[1;33m[\u001b[0m\u001b[1;34m\"location\"\u001b[0m\u001b[1;33m]\u001b[0m\u001b[1;33m[\u001b[0m\u001b[1;34m\"lat\"\u001b[0m\u001b[1;33m]\u001b[0m\u001b[1;33m\u001b[0m\u001b[1;33m\u001b[0m\u001b[0m\n\u001b[0m\u001b[0;32m     10\u001b[0m \u001b[0mlng\u001b[0m \u001b[1;33m=\u001b[0m \u001b[0mgeo_data\u001b[0m\u001b[1;33m[\u001b[0m\u001b[1;34m\"results\"\u001b[0m\u001b[1;33m]\u001b[0m\u001b[1;33m[\u001b[0m\u001b[1;36m0\u001b[0m\u001b[1;33m]\u001b[0m\u001b[1;33m[\u001b[0m\u001b[1;34m\"geometry\"\u001b[0m\u001b[1;33m]\u001b[0m\u001b[1;33m[\u001b[0m\u001b[1;34m\"location\"\u001b[0m\u001b[1;33m]\u001b[0m\u001b[1;33m[\u001b[0m\u001b[1;34m\"lng\"\u001b[0m\u001b[1;33m]\u001b[0m\u001b[1;33m\u001b[0m\u001b[1;33m\u001b[0m\u001b[0m\n",
      "\u001b[1;31mIndexError\u001b[0m: list index out of range"
     ]
    }
   ],
   "source": [
    "target_location = \"950 N Glebe Rd Arlington, VA\"\n",
    "\n",
    "target_url = ('https://maps.googleapis.com/maps/api/geocode/json?'\n",
    "    'address={0}&key={1}').format(target_location, gkey)\n",
    "\n",
    "geo_data = requests.get(target_url).json()\n",
    "\n",
    "# Extract latitude and longitude\n",
    "lat = geo_data[\"results\"][0][\"geometry\"][\"location\"][\"lat\"]\n",
    "lng = geo_data[\"results\"][0][\"geometry\"][\"location\"][\"lng\"]"
   ]
  },
  {
   "cell_type": "markdown",
   "metadata": {},
   "source": [
    "  * In the code below **pay attention** to the URL parameters like `keyword`, `location`, and `types`. Also note the different JSON structure that is provided back to the user."
   ]
  },
  {
   "cell_type": "code",
   "execution_count": null,
   "metadata": {},
   "outputs": [],
   "source": [
    "# Nearby Places API documentation: https://developers.google.com/places/web-service/search\n",
    "\n",
    "target_coordinates = f\"{lat},{lng}\"\n",
    "target_search = \"Gun\"\n",
    "target_radius = 1000 # cannot be used when ranking by distance\n",
    "target_type = \"business\"\n",
    "\n",
    "print(target_coordinates)\n",
    "\n",
    "# set up a parameters dictionary\n",
    "params = {\n",
    "    \"location\": target_coordinates,\n",
    "    \"keyword\": target_search,\n",
    "    # \"radius\": target_radius,\n",
    "    \"type\": target_type,\n",
    "    \"key\": gkey,\n",
    "    \"rankby\": \"distance\" #can only be used if radius is not specified\n",
    "}\n",
    "\n",
    "# base url\n",
    "base_url = \"https://maps.googleapis.com/maps/api/place/nearbysearch/json\"\n",
    "\n",
    "# run a request using our params dictionary\n",
    "response = requests.get(base_url, params=params)"
   ]
  },
  {
   "cell_type": "code",
   "execution_count": null,
   "metadata": {},
   "outputs": [],
   "source": [
    "# print the response url, avoid doing for public github repos in order to avoid exposing key\n",
    "print(response.url)"
   ]
  },
  {
   "cell_type": "code",
   "execution_count": null,
   "metadata": {},
   "outputs": [],
   "source": [
    "# convert response to json\n",
    "places_data = response.json()\n",
    "\n",
    "# Print the json (pretty printed)\n",
    "print(json.dumps(places_data, indent=4, sort_keys=True))"
   ]
  },
  {
   "cell_type": "code",
   "execution_count": null,
   "metadata": {},
   "outputs": [],
   "source": [
    "# Print the name and address of the restaurants \n",
    "\n",
    "i = 1 # initialize counter\n",
    "\n",
    "for p in places_data[\"results\"]:\n",
    "    \n",
    "    place_name = p[\"name\"]\n",
    "    vicinity = p[\"vicinity\"]\n",
    "    rating = p[\"rating\"]\n",
    "    \n",
    "    print(f'{i}: {place_name}')\n",
    "    print(f'\\t {vicinity}')\n",
    "    print(f'\\t Rating: {rating}')\n",
    "    i +=  1 # increment counter"
   ]
  },
  {
   "cell_type": "code",
   "execution_count": null,
   "metadata": {},
   "outputs": [],
   "source": []
  }
 ],
 "metadata": {
  "kernelspec": {
   "display_name": "Python 3",
   "language": "python",
   "name": "python3"
  },
  "language_info": {
   "codemirror_mode": {
    "name": "ipython",
    "version": 3
   },
   "file_extension": ".py",
   "mimetype": "text/x-python",
   "name": "python",
   "nbconvert_exporter": "python",
   "pygments_lexer": "ipython3",
   "version": "3.7.3"
  }
 },
 "nbformat": 4,
 "nbformat_minor": 2
}
